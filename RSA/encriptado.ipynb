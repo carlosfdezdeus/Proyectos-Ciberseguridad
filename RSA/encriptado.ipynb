{
 "cells": [
  {
   "cell_type": "markdown",
   "metadata": {},
   "source": [
    "# Encriptado RSA\n"
   ]
  },
  {
   "cell_type": "code",
   "execution_count": 26,
   "metadata": {},
   "outputs": [
    {
     "name": "stdout",
     "output_type": "stream",
     "text": [
      "p =  3120\n",
      "q =  4589\n",
      "n = p * q =  14317680\n",
      "[2667888, 8273631, 13662672, 4539793, 8804768, 11800853, 11944413, 5717840, 7104880, 8273631, 4533297]\n",
      "Hola Mundo!\n"
     ]
    }
   ],
   "source": [
    "from funciones_RSA import *\n",
    "\n",
    "p = generador_primos(1000, 5000)\n",
    "q = generador_primos(1000, 5000)\n",
    "\n",
    "while p == q:\n",
    "    q = generador_primos(1000, 5000)\n",
    "\n",
    "n = p*q\n",
    "\n",
    "phi = (p-1) * (q-1)\n",
    "\n",
    "e = random.randint(3, phi-1)\n",
    "while math.gcd(e, phi) != 1:\n",
    "    e = random.randint(3, phi-1)\n",
    "\n",
    "clave_privada = inverso_modular(e,phi)\n",
    "clave_publica = e \n",
    "\n",
    "\n",
    "mensaje = \"Hola Mundo!\"\n",
    "\n",
    "\n",
    "mensaje_codificado = [ord(caracter) for caracter in mensaje]\n",
    "# (m^e) mod n = c\n",
    "mensaje_cifrado = [pow(caracter, clave_publica, n) for caracter in mensaje_codificado] # (c^e) mod n\n",
    "\n",
    "print(\"p = \", p)\n",
    "print(\"q = \", q)\n",
    "print(\"n = p * q = \", n)\n",
    "print(mensaje_cifrado)\n",
    "\n",
    "\n",
    "mensaje_decodificado = [pow(caracter, clave_privada, n) for caracter in mensaje_cifrado]\n",
    "# Me aseguro que los valores del inverso modular esten dentro del rango de los caracteres Unicode:\n",
    "mensaje_decodificado = [caracter % 0x110000 for caracter in mensaje_decodificado]\n",
    "mensaje = \"\".join(chr(caracter) for caracter in mensaje_codificado)\n",
    "print(mensaje)\n"
   ]
  }
 ],
 "metadata": {
  "kernelspec": {
   "display_name": "Python 3",
   "language": "python",
   "name": "python3"
  },
  "language_info": {
   "codemirror_mode": {
    "name": "ipython",
    "version": 3
   },
   "file_extension": ".py",
   "mimetype": "text/x-python",
   "name": "python",
   "nbconvert_exporter": "python",
   "pygments_lexer": "ipython3",
   "version": "3.11.6"
  }
 },
 "nbformat": 4,
 "nbformat_minor": 2
}
